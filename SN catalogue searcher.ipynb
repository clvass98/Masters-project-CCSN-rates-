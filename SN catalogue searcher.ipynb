{
 "cells": [
  {
   "cell_type": "code",
   "execution_count": 2,
   "metadata": {},
   "outputs": [],
   "source": [
    "#This code looks for supernovae from the supernova catalogue (Made with the help of Dr. Steven Williams)\n",
    "\n",
    "import glob, json, csv\n",
    "import numpy as np\n",
    "\n",
    "# Return SNe within the cutoff distance (in Mpc)\n",
    "cutoff_distance = 45\n",
    "\n",
    "output = []\n",
    "json_files = glob.glob('*.json')\n",
    "for file in json_files:\n",
    "    with open(file, 'r') as f:\n",
    "        supernova_data = json.load(f)\n",
    "        name = file[:-5]\n",
    "        if 'claimedtype' in supernova_data[name] and 'comovingdist' in supernova_data[name]:\n",
    "            distance = []\n",
    "            for j in supernova_data[name]['comovingdist']:\n",
    "                if j['u_value'] == 'Mpc':\n",
    "                    distance.append(float(j['value']))\n",
    "            distance = np.average(np.array(distance))\n",
    "            sn_type = supernova_data[name]['claimedtype'][0]['value']\n",
    "            if distance <= cutoff_distance and sn_type != 'Ia' and sn_type != 'I a' and sn_type != 'Candidate' and sn_type != 'Ia Pec': # Determine the wanted claimed types\n",
    "                output.append([name,round(distance,1),sn_type])\n",
    "\n",
    "# Write the information into csv file\n",
    "with open(\"supernovae_45_Mpc.csv\", \"w\") as f:\n",
    "    to_csv = csv.writer(f)\n",
    "    to_csv.writerow([\"Supernova\", \"Comoving Distance (Mpc)\", \"Type\"])\n",
    "    to_csv.writerows(output)"
   ]
  }
 ],
 "metadata": {
  "kernelspec": {
   "display_name": "Python 3 (ipykernel)",
   "language": "python",
   "name": "python3"
  },
  "language_info": {
   "codemirror_mode": {
    "name": "ipython",
    "version": 3
   },
   "file_extension": ".py",
   "mimetype": "text/x-python",
   "name": "python",
   "nbconvert_exporter": "python",
   "pygments_lexer": "ipython3",
   "version": "3.9.7"
  }
 },
 "nbformat": 4,
 "nbformat_minor": 2
}
